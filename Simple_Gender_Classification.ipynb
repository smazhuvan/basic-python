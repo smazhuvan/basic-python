{
  "nbformat": 4,
  "nbformat_minor": 0,
  "metadata": {
    "colab": {
      "name": "Simple_Gender_Classification.ipynb",
      "provenance": [],
      "collapsed_sections": [],
      "authorship_tag": "ABX9TyNph46rI5HyS6P6Ru2gBDSn",
      "include_colab_link": true
    },
    "kernelspec": {
      "name": "python3",
      "display_name": "Python 3"
    }
  },
  "cells": [
    {
      "cell_type": "markdown",
      "metadata": {
        "id": "view-in-github",
        "colab_type": "text"
      },
      "source": [
        "<a href=\"https://colab.research.google.com/github/smazhuvan/basic-python/blob/master/Simple_Gender_Classification.ipynb\" target=\"_parent\"><img src=\"https://colab.research.google.com/assets/colab-badge.svg\" alt=\"Open In Colab\"/></a>"
      ]
    },
    {
      "cell_type": "code",
      "metadata": {
        "id": "2hgaM97jHm8V",
        "colab_type": "code",
        "colab": {
          "base_uri": "https://localhost:8080/",
          "height": 85
        },
        "outputId": "c2fe3f62-7730-42c1-e0aa-a191bdaca51e"
      },
      "source": [
        "# Basic python program that classifies the gender based upon\n",
        "# the metrics like height weight and shoe size as data\n",
        "\n",
        "# importing tree from sklearn library\n",
        "from sklearn import tree,svm\n",
        "from sklearn.naive_bayes import GaussianNB\n",
        "from sklearn.metrics import accuracy_score\n",
        "\n",
        "# data\n",
        "X = [[181,80,11],[165,65,7],[160,60,6],[178,75,9],[180,69,11]]\n",
        "\n",
        "# target variable\n",
        "Y = ['male','female','female','male','male']\n",
        "\n",
        "# initializing the DecisionTreeClassifier, SVM, NaiveBayes respectively\n",
        "clf1 = tree.DecisionTreeClassifier()\n",
        "clf2 = svm.SVC()\n",
        "clf3 = GaussianNB()\n",
        "\n",
        "# training the data with classifiers using fit() method\n",
        "clf1 = clf1.fit(X,Y)\n",
        "clf2 = clf2.fit(X,Y)\n",
        "clf3 = clf3.fit(X,Y)\n",
        "\n",
        "# evaluating accuracy using the preset data\n",
        "prediction1 = clf1.predict(X)\n",
        "acc1 = accuracy_score(Y,prediction1) * 100\n",
        "\n",
        "prediction2 = clf2.predict(X)\n",
        "acc2 = accuracy_score(Y,prediction2) * 100\n",
        "\n",
        "prediction3 = clf3.predict(X)\n",
        "acc3 = accuracy_score(Y,prediction3) * 100\n",
        "\n",
        "# for the upcoming data we use predict() method to evaluate\n",
        "prediction1 = clf1.predict([[185,90,12], [166,55,8]])\n",
        "prediction2 = clf2.predict([[185,90,12], [166,55,8]])\n",
        "prediction3 = clf3.predict([[185,90,12], [166,55,8]])\n",
        "\n",
        "# printing the output using print() method\n",
        "if (acc1 > acc2) and (acc1 > acc3):\n",
        "  print(\"Best classifier is DecisionTreeClassifier with accuracy of\", acc1)\n",
        "  print(prediction1)\n",
        "elif (acc2 > acc1) and (acc2 > acc3):\n",
        "  print(\"Best classifier is SVM with accuracy of\", acc2)\n",
        "  print(prediction2)\n",
        "elif (acc3 > acc1) and (acc3 > acc2):\n",
        "  print(\"Best classifier is NaiveBayes with accuracy of\", acc3)\n",
        "  print(prediction3)\n",
        "else:\n",
        "  print(\"More than one classifier has equal accuracy percentage\")\n",
        "  print(acc1)\n",
        "  print(acc2)\n",
        "  print(acc3)"
      ],
      "execution_count": 1,
      "outputs": [
        {
          "output_type": "stream",
          "text": [
            "More than one classifier has equal accuracy percentage\n",
            "100.0\n",
            "60.0\n",
            "100.0\n"
          ],
          "name": "stdout"
        }
      ]
    }
  ]
}