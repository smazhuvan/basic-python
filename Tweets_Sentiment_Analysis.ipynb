{
  "nbformat": 4,
  "nbformat_minor": 0,
  "metadata": {
    "colab": {
      "name": "Tweets_Sentiment_Analysis.ipynb",
      "provenance": [],
      "collapsed_sections": [],
      "authorship_tag": "ABX9TyNRQR/ckJrgou3JyNEiaYpr",
      "include_colab_link": true
    },
    "kernelspec": {
      "name": "python3",
      "display_name": "Python 3"
    }
  },
  "cells": [
    {
      "cell_type": "markdown",
      "metadata": {
        "id": "view-in-github",
        "colab_type": "text"
      },
      "source": [
        "<a href=\"https://colab.research.google.com/github/smazhuvan/basic-python/blob/master/Tweets_Sentiment_Analysis.ipynb\" target=\"_parent\"><img src=\"https://colab.research.google.com/assets/colab-badge.svg\" alt=\"Open In Colab\"/></a>"
      ]
    },
    {
      "cell_type": "code",
      "metadata": {
        "id": "wVx_-25IhNJo",
        "colab_type": "code",
        "colab": {}
      },
      "source": [
        "# This python program will analyze the tweet and gives the sentiment value of it between 0 and 1\n",
        "# where 0 being negative and 1 being positive\n",
        "\n",
        "# we use two major dependancies\n",
        "# 1. Tweepy - which is used to integrate twitter API\n",
        "# 2. Textblob - simple NLP library\n",
        "\n",
        "import tweepy\n",
        "from textblob import TextBlob"
      ],
      "execution_count": 0,
      "outputs": []
    },
    {
      "cell_type": "code",
      "metadata": {
        "id": "Xr1KyVEFh6t2",
        "colab_type": "code",
        "colab": {}
      },
      "source": [
        "# Necessary twitter API keys and tokens are initiatied\n",
        "\n",
        "consumer_key = '9X06POMCfKXhGsZstkeqSIc1B'\n",
        "consumer_secret = 'WMPYaZZ3JFSWPMVLbgjnJc7pg9u3fW28ZObcKeXdb62Pk5IvQF'\n",
        "\n",
        "access_token = '967085539743604736-pAVp8WYoSwqeB9peZ4l7LvbEO5mxk32'\n",
        "access_secret = 'w9inp9K1zwdvyUvFpLWYvq5XI5MNmeLYjLCYilm6UvVVg'"
      ],
      "execution_count": 0,
      "outputs": []
    },
    {
      "cell_type": "code",
      "metadata": {
        "id": "_JqEoUBtjKNU",
        "colab_type": "code",
        "colab": {}
      },
      "source": [
        "# Authentication of tweet is done by using tweepy\n",
        "\n",
        "auth = tweepy.OAuthHandler(consumer_key, consumer_secret)\n",
        "auth.set_access_token(access_token, access_secret)"
      ],
      "execution_count": 0,
      "outputs": []
    },
    {
      "cell_type": "code",
      "metadata": {
        "id": "CSYlN4hUjo2G",
        "colab_type": "code",
        "colab": {}
      },
      "source": [
        "# Tweaking the Twitter API\n",
        "\n",
        "api = tweepy.API(auth)"
      ],
      "execution_count": 0,
      "outputs": []
    },
    {
      "cell_type": "code",
      "metadata": {
        "id": "x5rXaa8IjxyO",
        "colab_type": "code",
        "colab": {
          "base_uri": "https://localhost:8080/",
          "height": 476
        },
        "outputId": "47429fa5-6ddd-44a6-ac3e-b9c6c54ff866"
      },
      "source": [
        "# searching the tweets with any keyword of our choice\n",
        "\n",
        "tweets_ = api.search('Happy','Sad')\n",
        "\n",
        "# followed by creating the loop for setiment analysis using TextBlob\n",
        "\n",
        "for tweet in tweets_:\n",
        "  print(tweet.text) # prints the tweet that hold the keyword value\n",
        "  clf = TextBlob(tweet.text)\n",
        "  print(clf.sentiment) # setiment method in TextBlob evaluates the sentiment ploarity with its predefined functions"
      ],
      "execution_count": 15,
      "outputs": [
        {
          "output_type": "stream",
          "text": [
            "i posted happy birthday #grateful last alas 2 kay wa lang mao to pag mata nako ron, HAHAHAHAHAHAHAHAHAHAHAHAHAHAHA… https://t.co/YjnBTyAANy\n",
            "Sentiment(polarity=0.13333333333333333, subjectivity=0.6888888888888888)\n",
            "oh diba ag last time nag ing ato ko, daghang na tiggered pero pag big account na okay lang, happy happy lang. sad reax🤷🏻‍♀️🤡\n",
            "Sentiment(polarity=0.26666666666666666, subjectivity=0.6111111111111112)\n",
            "Ambot lang sad HAHAHA unta napa happy ka bisag gamay — ikaw jud no hahahaahh awieee :&gt; https://t.co/t7MOTZwkHQ\n",
            "Sentiment(polarity=0.16666666666666666, subjectivity=0.7999999999999999)\n",
            "Thank you for making your readers happy by updating your stories even though you are sad. I hope you get well soo…… https://t.co/L8DJfSOEOU\n",
            "Sentiment(polarity=0.15000000000000002, subjectivity=1.0)\n",
            "tbh no while sigi mig q&amp;a ni mama sigi rakog katawa wala lang happy lang po ako kay nakabalo na jud, sigi man gud n… https://t.co/bo3UDhnDoM\n",
            "Sentiment(polarity=0.8, subjectivity=1.0)\n",
            "She replied: grabe na ba ka positive uy. Pero kung masakitan laban lang sad ka ha.\n",
            "\n",
            "And i replied: kaakibat ng pagm… https://t.co/fBL5t5EbjK\n",
            "Sentiment(polarity=-0.13636363636363635, subjectivity=0.7727272727272727)\n",
            "Happy Birthday to our most prangka frenny!!! Thank you for always being the yaya sa ato mga session and my instant… https://t.co/v8PLWn0wdB\n",
            "Sentiment(polarity=0.88828125, subjectivity=0.75)\n",
            "@callcallcheol Hopefully happy one na kay permi lang sad. Sakit kays dughan. They deserve to be happy sad\n",
            "Sentiment(polarity=0.15000000000000002, subjectivity=1.0)\n",
            "Miss u too!! Kung pwede lang mubalik sa lingaw moments sa HS 😭❤️ Aweeee 😩 Yes yes!! Happy for you as well!! Padayun… https://t.co/F9PKSVmtWi\n",
            "Sentiment(polarity=1.0, subjectivity=1.0)\n",
            "Ka ahak sa life. hahahaha. Usahay happy kayka, niya mo kalit lang sad kag ka guol taud2 hahhaha. \n",
            "Tungod gyud nis sig' overthinking.\n",
            "Sentiment(polarity=0.16666666666666666, subjectivity=0.8333333333333334)\n",
            "Ayaw lang sad pag regret nga niabot mo ani. You were once so happy bsag sayop. Just make sure, this will be another leason learned.\n",
            "Sentiment(polarity=0.26666666666666666, subjectivity=0.9629629629629629)\n",
            "666. Hi mamser we used to talk a lot but ewan hahaha. Songer kay ka and the last time we talked you were studious b… https://t.co/Fo73xVrZvO\n",
            "Sentiment(polarity=0.1, subjectivity=0.23333333333333334)\n"
          ],
          "name": "stdout"
        }
      ]
    }
  ]
}